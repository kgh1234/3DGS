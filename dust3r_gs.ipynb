{
  "nbformat": 4,
  "nbformat_minor": 0,
  "metadata": {
    "colab": {
      "provenance": [],
      "gpuType": "T4",
      "authorship_tag": "ABX9TyMaqizKi5WKe6BMsEmu2Alr",
      "include_colab_link": true
    },
    "kernelspec": {
      "name": "python3",
      "display_name": "Python 3"
    },
    "language_info": {
      "name": "python"
    },
    "accelerator": "GPU"
  },
  "cells": [
    {
      "cell_type": "markdown",
      "metadata": {
        "id": "view-in-github",
        "colab_type": "text"
      },
      "source": [
        "<a href=\"https://colab.research.google.com/github/kgh1234/3DGS/blob/main/dust3r_gs.ipynb\" target=\"_parent\"><img src=\"https://colab.research.google.com/assets/colab-badge.svg\" alt=\"Open In Colab\"/></a>"
      ]
    },
    {
      "cell_type": "code",
      "source": [
        "# dust3r 설치\n",
        "!git clone --recursive https://github.com/naver/dust3r.git\n",
        "%cd dust3r\n",
        "!git submodule update --init --recursive\n",
        "\n",
        "# 경로 설정\n",
        "import sys\n",
        "sys.path.append(\"/content/dust3r\")\n"
      ],
      "metadata": {
        "colab": {
          "base_uri": "https://localhost:8080/"
        },
        "id": "RVi8c6xxrlq3",
        "outputId": "1b81e118-e467-4682-9e0c-c8888567cf9d"
      },
      "execution_count": 1,
      "outputs": [
        {
          "output_type": "stream",
          "name": "stdout",
          "text": [
            "Cloning into 'dust3r'...\n",
            "remote: Enumerating objects: 550, done.\u001b[K\n",
            "remote: Counting objects: 100% (405/405), done.\u001b[K\n",
            "remote: Compressing objects: 100% (208/208), done.\u001b[K\n",
            "remote: Total 550 (delta 293), reused 197 (delta 197), pack-reused 145 (from 1)\u001b[K\n",
            "Receiving objects: 100% (550/550), 732.88 KiB | 14.09 MiB/s, done.\n",
            "Resolving deltas: 100% (319/319), done.\n",
            "Submodule 'croco' (https://github.com/naver/croco) registered for path 'croco'\n",
            "Cloning into '/content/dust3r/croco'...\n",
            "remote: Enumerating objects: 124, done.        \n",
            "remote: Counting objects: 100% (44/44), done.        \n",
            "remote: Compressing objects: 100% (22/22), done.        \n",
            "remote: Total 124 (delta 28), reused 22 (delta 22), pack-reused 80 (from 1)        \n",
            "Receiving objects: 100% (124/124), 384.39 KiB | 3.53 MiB/s, done.\n",
            "Resolving deltas: 100% (50/50), done.\n",
            "Submodule path 'croco': checked out '743ee71a2a9bf57cea6832a9064a70a0597fcfcb'\n",
            "/content/dust3r\n"
          ]
        }
      ]
    },
    {
      "cell_type": "code",
      "source": [
        "# 수정된 is_symmetrized 적용 (한 줄로 덮어쓰기!)\n",
        "!echo -e \"def is_symmetrized(gt1, gt2):\\n    return False\" > /content/dust3r/dust3r/utils/misc.py\n"
      ],
      "metadata": {
        "id": "b6-xRQMJrctX"
      },
      "execution_count": 2,
      "outputs": []
    },
    {
      "cell_type": "code",
      "source": [
        "import importlib\n",
        "import dust3r.utils.misc\n",
        "importlib.reload(dust3r.utils.misc)\n"
      ],
      "metadata": {
        "colab": {
          "base_uri": "https://localhost:8080/"
        },
        "id": "x5Zv49ygzzDL",
        "outputId": "d5723b46-ecb1-4bd4-b017-ade56d805372"
      },
      "execution_count": 9,
      "outputs": [
        {
          "output_type": "execute_result",
          "data": {
            "text/plain": [
              "<module 'dust3r.utils.misc' from '/content/dust3r/dust3r/utils/misc.py'>"
            ]
          },
          "metadata": {},
          "execution_count": 9
        }
      ]
    },
    {
      "cell_type": "code",
      "source": [
        "# GaussianOnly 모델 정의\n",
        "import torch\n",
        "import torch.nn as nn\n",
        "from dust3r.model import AsymmetricCroCo3DStereo\n",
        "\n",
        "class DUSt3R_GaussianOnly(nn.Module):\n",
        "    def __init__(self, model_name=\"naver/DUSt3R_ViTLarge_BaseDecoder_512_dpt\"):\n",
        "        super().__init__()\n",
        "        self.backbone = AsymmetricCroCo3DStereo.from_pretrained(model_name)\n",
        "        hidden_dim = 768\n",
        "        self.head_mu = nn.Linear(3, 3)         # 입력 차원은 3\n",
        "        self.head_sigma = nn.Linear(3, 3)\n",
        "        self.head_alpha = nn.Linear(3, 1)\n",
        "        self.head_rgb = nn.Linear(3, 3)\n",
        "\n",
        "    def forward(self, image1, image2):\n",
        "        self.backbone.eval()\n",
        "        view1 = {\"img\": image1, \"mask\": torch.ones_like(image1[:, :1, :, :])}\n",
        "        view2 = {\"img\": image2, \"mask\": torch.ones_like(image2[:, :1, :, :])}\n",
        "        with torch.no_grad():\n",
        "            out_dict, _ = self.backbone(view1, view2)  # 🔥 여기가 핵심!\n",
        "            feats = out_dict['pts3d']\n",
        "            mu = feats  # 이미 3D 좌표니까\n",
        "            sigma = torch.exp(self.head_sigma(feats))\n",
        "            alpha = torch.sigmoid(self.head_alpha(feats))\n",
        "            rgb = torch.sigmoid(self.head_rgb(feats))\n",
        "        return {\n",
        "            'mu': mu,\n",
        "            'sigma': sigma,\n",
        "            'alpha': alpha,\n",
        "            'rgb': rgb\n",
        "        }\n"
      ],
      "metadata": {
        "id": "vtKkJnbErflQ"
      },
      "execution_count": 30,
      "outputs": []
    },
    {
      "cell_type": "code",
      "source": [
        "# 이미지 로딩 및 시간 측정\n",
        "from PIL import Image\n",
        "import torchvision.transforms as T\n",
        "import time\n",
        "\n",
        "def load_image(path):\n",
        "    image = Image.open(path).convert(\"RGB\")\n",
        "    transform = T.Compose([\n",
        "        T.Resize((224, 224)),\n",
        "        T.ToTensor()\n",
        "    ])\n",
        "    return transform(image).unsqueeze(0).cuda()\n",
        "\n",
        "@torch.no_grad()\n",
        "def measure_inference_time_gs(model, img1, img2, repeat=10):\n",
        "    model.eval()\n",
        "    torch.cuda.synchronize()\n",
        "    for _ in range(3):\n",
        "        _ = model(img1, img2)\n",
        "    times = []\n",
        "    for _ in range(repeat):\n",
        "        start = time.time()\n",
        "        _ = model(img1, img2)\n",
        "        torch.cuda.synchronize()\n",
        "        end = time.time()\n",
        "        times.append(end - start)\n",
        "    return sum(times) / repeat\n"
      ],
      "metadata": {
        "id": "DYvq3Gqurg4N"
      },
      "execution_count": 31,
      "outputs": []
    },
    {
      "cell_type": "code",
      "source": [
        "out_dict, _ = gs_model.backbone({\n",
        "    \"img\": img1,\n",
        "    \"mask\": torch.ones_like(img1[:, :1, :, :])\n",
        "}, {\n",
        "    \"img\": img2,\n",
        "    \"mask\": torch.ones_like(img2[:, :1, :, :])\n",
        "})\n",
        "\n",
        "print(out_dict.keys())\n"
      ],
      "metadata": {
        "colab": {
          "base_uri": "https://localhost:8080/"
        },
        "id": "pXeJBxLO07Wg",
        "outputId": "23505249-2153-482e-9dd9-ce3ab1995133"
      },
      "execution_count": 32,
      "outputs": [
        {
          "output_type": "stream",
          "name": "stdout",
          "text": [
            "dict_keys(['pts3d', 'conf'])\n"
          ]
        }
      ]
    },
    {
      "cell_type": "code",
      "source": [
        "# 모델 생성 + 이미지 경로 수정\n",
        "img1 = load_image(\"/content/000002.jpg\")\n",
        "img2 = load_image(\"/content/000003.jpg\")\n",
        "\n",
        "gs_model = DUSt3R_GaussianOnly().cuda().eval()\n",
        "gs_time = measure_inference_time_gs(gs_model, img1, img2)\n",
        "print(f\"✅ GaussianOnly 평균 추론 시간: {gs_time:.4f}초\")\n"
      ],
      "metadata": {
        "colab": {
          "base_uri": "https://localhost:8080/"
        },
        "id": "lu1E9AjFrh_6",
        "outputId": "d623e308-f948-4b7b-f3c0-2757a7e47884"
      },
      "execution_count": 33,
      "outputs": [
        {
          "output_type": "stream",
          "name": "stdout",
          "text": [
            "✅ GaussianOnly 평균 추론 시간: 0.2227초\n"
          ]
        }
      ]
    },
    {
      "cell_type": "code",
      "source": [],
      "metadata": {
        "id": "fFiF4ibLxQ5r"
      },
      "execution_count": null,
      "outputs": []
    }
  ]
}